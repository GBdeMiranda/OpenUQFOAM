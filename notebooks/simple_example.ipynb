{
 "cells": [
  {
   "cell_type": "markdown",
   "id": "b3548db5",
   "metadata": {},
   "source": [
    "# Simple Example: UQ Study with OpenUQFOAM\n",
    "\n",
    "This notebook demonstrates basic usage of the OpenUQFOAM framework."
   ]
  },
  {
   "cell_type": "code",
   "execution_count": 1,
   "id": "cb8b86d4",
   "metadata": {},
   "outputs": [],
   "source": [
    "import sys\n",
    "import os\n",
    "sys.path.append('../src')\n",
    "\n",
    "import numpy as np\n",
    "import pandas as pd\n",
    "import matplotlib.pyplot as plt\n",
    "\n",
    "# Import OpenUQFOAM modules\n",
    "from uq_runner import model, generate_samples, run_uq_study\n",
    "from openfoam_tools import run_simulation, load_config"
   ]
  },
  {
   "cell_type": "markdown",
   "id": "f3deb10a",
   "metadata": {},
   "source": [
    "## 0. Example of Single Realization"
   ]
  },
  {
   "cell_type": "code",
   "execution_count": 2,
   "id": "466993c4",
   "metadata": {},
   "outputs": [],
   "source": [
    "experiment_config = {\n",
    "    'solver': 'Allrun',\n",
    "    'experiment': {\n",
    "        'name': 'singleRealization',\n",
    "        'base_case_dir': \"../templates/scalarTransportFoam\"\n",
    "    },\n",
    "}"
   ]
  },
  {
   "cell_type": "code",
   "execution_count": 3,
   "id": "ef7b4941",
   "metadata": {},
   "outputs": [
    {
     "name": "stdout",
     "output_type": "stream",
     "text": [
      "\n",
      "Running blockMesh on /mnt/c/Users/Lamap/Downloads/OpenUQFOAM/experiments/singleRealization\n",
      "Running scalarTransportFoam on /mnt/c/Users/Lamap/Downloads/OpenUQFOAM/experiments/singleRealization\n",
      "\n"
     ]
    }
   ],
   "source": [
    "run_simulation(params={'constant/transportProperties/DT': 0.05}, experiment_config=experiment_config)"
   ]
  },
  {
   "cell_type": "markdown",
   "id": "663bd032",
   "metadata": {},
   "source": [
    "## 1. Load configuration"
   ]
  },
  {
   "cell_type": "code",
   "execution_count": 4,
   "id": "493a1317",
   "metadata": {},
   "outputs": [
    {
     "name": "stdout",
     "output_type": "stream",
     "text": [
      "Parameter ranges:\n",
      "  constant/transportProperties/DT: [0.01, 0.1]\n"
     ]
    }
   ],
   "source": [
    "config = load_config(\"../config.yml\")\n",
    "param_ranges = config.get('parameter_ranges', {})\n",
    "\n",
    "print(\"Parameter ranges:\")\n",
    "for param, range_vals in param_ranges.items():\n",
    "    print(f\"  {param}: {range_vals}\")"
   ]
  },
  {
   "cell_type": "markdown",
   "id": "5709f0c3",
   "metadata": {},
   "source": [
    "## 2. Generate parameter samples"
   ]
  },
  {
   "cell_type": "code",
   "execution_count": 5,
   "id": "0939df0f",
   "metadata": {},
   "outputs": [
    {
     "name": "stdout",
     "output_type": "stream",
     "text": [
      "Warning: pyDOE2 not available, using random sampling\n",
      "Generated samples shape: (10, 1)\n"
     ]
    },
    {
     "data": {
      "text/plain": [
       "array([[0.04370861],\n",
       "       [0.09556429],\n",
       "       [0.07587945],\n",
       "       [0.06387926],\n",
       "       [0.02404168],\n",
       "       [0.02403951],\n",
       "       [0.01522753],\n",
       "       [0.08795585],\n",
       "       [0.06410035],\n",
       "       [0.07372653]])"
      ]
     },
     "execution_count": 5,
     "metadata": {},
     "output_type": "execute_result"
    }
   ],
   "source": [
    "n_samples = 10\n",
    "\n",
    "X = generate_samples(\n",
    "    n_samples=n_samples,\n",
    "    param_ranges=param_ranges,\n",
    "    method='lhs',\n",
    "    seed=42\n",
    ")\n",
    "\n",
    "print(f\"Generated samples shape: {X.shape}\")\n",
    "X"
   ]
  },
  {
   "cell_type": "markdown",
   "id": "4a17dd90",
   "metadata": {},
   "source": [
    "## 3. Run UQ study"
   ]
  },
  {
   "cell_type": "code",
   "execution_count": 6,
   "id": "a2b43558",
   "metadata": {},
   "outputs": [
    {
     "name": "stdout",
     "output_type": "stream",
     "text": [
      "Warning: pyDOE2 not available, using random sampling\n"
     ]
    },
    {
     "name": "stderr",
     "output_type": "stream",
     "text": [
      "Running simulations:   0%|          | 0/10 [00:00<?, ?it/s]"
     ]
    },
    {
     "name": "stdout",
     "output_type": "stream",
     "text": [
      "\n",
      "\n",
      "\n",
      "\n",
      "Running blockMesh on /mnt/c/Users/Lamap/Downloads/OpenUQFOAM/experiments/myFirstUQStudy/sample_000\n",
      "Running scalarTransportFoam on /mnt/c/Users/Lamap/Downloads/OpenUQFOAM/experiments/myFirstUQStudy/sample_000\n",
      "\n"
     ]
    },
    {
     "name": "stderr",
     "output_type": "stream",
     "text": [
      "Running simulations:  10%|█         | 1/10 [00:31<04:43, 31.45s/it]"
     ]
    },
    {
     "name": "stdout",
     "output_type": "stream",
     "text": [
      "\n",
      "Running blockMesh on /mnt/c/Users/Lamap/Downloads/OpenUQFOAM/experiments/myFirstUQStudy/sample_003\n",
      "Running scalarTransportFoam on /mnt/c/Users/Lamap/Downloads/OpenUQFOAM/experiments/myFirstUQStudy/sample_003\n",
      "\n",
      "Running blockMesh on /mnt/c/Users/Lamap/Downloads/OpenUQFOAM/experiments/myFirstUQStudy/sample_002\n",
      "Running scalarTransportFoam on /mnt/c/Users/Lamap/Downloads/OpenUQFOAM/experiments/myFirstUQStudy/sample_002\n",
      "\n"
     ]
    },
    {
     "name": "stderr",
     "output_type": "stream",
     "text": [
      "Running simulations:  30%|███       | 3/10 [00:32<00:59,  8.54s/it]"
     ]
    },
    {
     "name": "stdout",
     "output_type": "stream",
     "text": [
      "\n",
      "\n",
      "Running blockMesh on /mnt/c/Users/Lamap/Downloads/OpenUQFOAM/experiments/myFirstUQStudy/sample_001\n",
      "Running scalarTransportFoam on /mnt/c/Users/Lamap/Downloads/OpenUQFOAM/experiments/myFirstUQStudy/sample_001\n",
      "\n",
      "\n"
     ]
    },
    {
     "name": "stderr",
     "output_type": "stream",
     "text": [
      "Running simulations:  30%|███       | 3/10 [00:49<00:59,  8.54s/it]"
     ]
    },
    {
     "name": "stdout",
     "output_type": "stream",
     "text": [
      "Running blockMesh on /mnt/c/Users/Lamap/Downloads/OpenUQFOAM/experiments/myFirstUQStudy/sample_004\n",
      "Running scalarTransportFoam on /mnt/c/Users/Lamap/Downloads/OpenUQFOAM/experiments/myFirstUQStudy/sample_004\n",
      "\n"
     ]
    },
    {
     "name": "stderr",
     "output_type": "stream",
     "text": [
      "Running simulations:  50%|█████     | 5/10 [01:04<01:01, 12.27s/it]"
     ]
    },
    {
     "name": "stdout",
     "output_type": "stream",
     "text": [
      "Running blockMesh on /mnt/c/Users/Lamap/Downloads/OpenUQFOAM/experiments/myFirstUQStudy/sample_006\n",
      "Running scalarTransportFoam on /mnt/c/Users/Lamap/Downloads/OpenUQFOAM/experiments/myFirstUQStudy/sample_006\n",
      "\n",
      "Running blockMesh on /mnt/c/Users/Lamap/Downloads/OpenUQFOAM/experiments/myFirstUQStudy/sample_005\n",
      "Running scalarTransportFoam on /mnt/c/Users/Lamap/Downloads/OpenUQFOAM/experiments/myFirstUQStudy/sample_005\n",
      "\n",
      "\n",
      "\n",
      "Running blockMesh on /mnt/c/Users/Lamap/Downloads/OpenUQFOAM/experiments/myFirstUQStudy/sample_007\n",
      "Running scalarTransportFoam on /mnt/c/Users/Lamap/Downloads/OpenUQFOAM/experiments/myFirstUQStudy/sample_007\n",
      "\n"
     ]
    },
    {
     "name": "stderr",
     "output_type": "stream",
     "text": [
      "Running simulations:  80%|████████  | 8/10 [01:20<00:12,  6.45s/it]"
     ]
    },
    {
     "name": "stdout",
     "output_type": "stream",
     "text": [
      "Running blockMesh on /mnt/c/Users/Lamap/Downloads/OpenUQFOAM/experiments/myFirstUQStudy/sample_008\n",
      "Running scalarTransportFoam on /mnt/c/Users/Lamap/Downloads/OpenUQFOAM/experiments/myFirstUQStudy/sample_008\n",
      "\n"
     ]
    },
    {
     "name": "stderr",
     "output_type": "stream",
     "text": [
      "Running simulations:  90%|█████████ | 9/10 [01:33<00:10, 10.35s/it]"
     ]
    },
    {
     "name": "stdout",
     "output_type": "stream",
     "text": [
      "Running blockMesh on /mnt/c/Users/Lamap/Downloads/OpenUQFOAM/experiments/myFirstUQStudy/sample_009\n",
      "Running scalarTransportFoam on /mnt/c/Users/Lamap/Downloads/OpenUQFOAM/experiments/myFirstUQStudy/sample_009\n",
      "\n"
     ]
    },
    {
     "name": "stderr",
     "output_type": "stream",
     "text": [
      "Running simulations: 100%|██████████| 10/10 [01:34<00:00,  9.41s/it]\n"
     ]
    },
    {
     "ename": "KeyError",
     "evalue": "'experiment_name'",
     "output_type": "error",
     "traceback": [
      "\u001b[31m---------------------------------------------------------------------------\u001b[39m",
      "\u001b[31mKeyError\u001b[39m                                  Traceback (most recent call last)",
      "\u001b[36mCell\u001b[39m\u001b[36m \u001b[39m\u001b[32mIn[6]\u001b[39m\u001b[32m, line 1\u001b[39m\n\u001b[32m----> \u001b[39m\u001b[32m1\u001b[39m \u001b[43mrun_uq_study\u001b[49m\u001b[43m(\u001b[49m\u001b[43m \u001b[49m\u001b[43mconfig_file\u001b[49m\u001b[43m=\u001b[49m\u001b[33;43m\"\u001b[39;49m\u001b[33;43m../config.yml\u001b[39;49m\u001b[33;43m\"\u001b[39;49m\u001b[43m,\u001b[49m\u001b[43m \u001b[49m\u001b[43mn_samples\u001b[49m\u001b[43m=\u001b[49m\u001b[32;43m10\u001b[39;49m\u001b[43m \u001b[49m\u001b[43m)\u001b[49m\n",
      "\u001b[36mFile \u001b[39m\u001b[32m/mnt/c/Users/Lamap/Downloads/OpenUQFOAM/notebooks/../src/uq_runner.py:205\u001b[39m, in \u001b[36mrun_uq_study\u001b[39m\u001b[34m(config_file, n_samples)\u001b[39m\n\u001b[32m    197\u001b[39m     \u001b[38;5;28;01mfor\u001b[39;00m _ \u001b[38;5;129;01min\u001b[39;00m tqdm(\n\u001b[32m    198\u001b[39m         pool.imap_unordered(process_func, iparams),\n\u001b[32m    199\u001b[39m         total=\u001b[38;5;28mlen\u001b[39m(iparams), \n\u001b[32m    200\u001b[39m         desc=\u001b[33m'\u001b[39m\u001b[33mRunning simulations\u001b[39m\u001b[33m'\u001b[39m,\n\u001b[32m    201\u001b[39m         mininterval=\u001b[32m1.0\u001b[39m     \u001b[38;5;66;03m# Updates at most once per second\u001b[39;00m\n\u001b[32m    202\u001b[39m     ):\n\u001b[32m    203\u001b[39m         \u001b[38;5;28;01mpass\u001b[39;00m\n\u001b[32m--> \u001b[39m\u001b[32m205\u001b[39m \u001b[38;5;28mprint\u001b[39m(\u001b[33mf\u001b[39m\u001b[33m\"\u001b[39m\u001b[33mUQ study completed. Results saved in \u001b[39m\u001b[33m'\u001b[39m\u001b[33mexperiments/\u001b[39m\u001b[38;5;132;01m{\u001b[39;00m\u001b[43mconfig\u001b[49m\u001b[43m[\u001b[49m\u001b[33;43m'\u001b[39;49m\u001b[33;43mexperiment_name\u001b[39;49m\u001b[33;43m'\u001b[39;49m\u001b[43m]\u001b[49m\u001b[38;5;132;01m}\u001b[39;00m\u001b[33m'\u001b[39m\u001b[33m folder\u001b[39m\u001b[33m\"\u001b[39m)\n\u001b[32m    206\u001b[39m \u001b[38;5;28;01mreturn\u001b[39;00m \u001b[38;5;28;01mNone\u001b[39;00m\n",
      "\u001b[31mKeyError\u001b[39m: 'experiment_name'"
     ]
    }
   ],
   "source": [
    "run_uq_study( config_file=\"../config.yml\", n_samples=10 )"
   ]
  }
 ],
 "metadata": {
  "kernelspec": {
   "display_name": "openuqfoam",
   "language": "python",
   "name": "python3"
  },
  "language_info": {
   "codemirror_mode": {
    "name": "ipython",
    "version": 3
   },
   "file_extension": ".py",
   "mimetype": "text/x-python",
   "name": "python",
   "nbconvert_exporter": "python",
   "pygments_lexer": "ipython3",
   "version": "3.12.2"
  }
 },
 "nbformat": 4,
 "nbformat_minor": 5
}
